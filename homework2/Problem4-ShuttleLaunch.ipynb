{
 "metadata": {
  "name": "",
  "signature": "sha256:8dcb7b428ec40cce8f4b24b894bbcc085f3447cbf4b30a558f1c27a13d006de2"
 },
 "nbformat": 3,
 "nbformat_minor": 0,
 "worksheets": [
  {
   "cells": [
    {
     "cell_type": "heading",
     "level": 1,
     "metadata": {},
     "source": [
      "Problem 4. Space Shuttle Launch - Delta V Losses"
     ]
    },
    {
     "cell_type": "markdown",
     "metadata": {},
     "source": [
      "In this problem we will attempt to quantify the $\\Delta V$ losses of the equation below.\n",
      "To do this, you will perform the integration over the first stage of a Space Shuttle launch using the attached data for STS-126.\n",
      "As a reminder, these are the equations we found in lecture.\n",
      "\\begin{align}\n",
      "    \\Delta V &= \\Delta V_{ideal} - \\Delta V_{grav} - \\Delta V_{drag} \\\\\n",
      "    \\Delta V_{ideal} &= \\int_{t_0}^{t_f} \\frac{T(t)}{M(t)} dt \\\\\n",
      "    \\Delta V_{grav}  &= \\int_{t_0}^{t_f} g\\sin\\theta dt \\\\\n",
      "    \\Delta V_{drag}  &= \\int_{t_0}^{t_f} \\frac{D(t)}{M(t)} dt \\\\\n",
      "    D &= \\frac{1}{2}\\rho V^2 A_f C_D\n",
      "\\end{align}\n",
      "    \n",
      "Determine the following for the first stage:\n",
      "\n",
      "- (a) $\\Delta V_{ideal}$\n",
      "- (b) $\\Delta V_{grav}$ for the following three different assumptions:\n",
      "    - (i) A constant $g_0$ and vertical launch\n",
      "    - (ii) A constant $g_0$\n",
      "    - (iii) Use $g(h)$, the gravitational acceleration as a function of altitude\n",
      "        \\begin{equation*}\n",
      "        g(h) = g_0\\left(\\frac{r_e}{r_e+h}\\right)^2\n",
      "        \\end{equation*}\n",
      "        where $r_e$ is the radius of the Earth, and $h$ is height above sea level.\n",
      "    - (iv) Comment on the three different values you found for each and the validity of the simplifications in (i) and (ii)\n",
      "- (c) $\\Delta V_{drag}$\n",
      "- (d) Estimate $C_D$ of the Space Shuttle in the first stage configuration (Orbiter, External Tank, Solid Rocket Boosters). You are free to make assumptions and use approximate values where needed, so long as they are justified!"
     ]
    },
    {
     "cell_type": "heading",
     "level": 2,
     "metadata": {},
     "source": [
      "Solution"
     ]
    },
    {
     "cell_type": "code",
     "collapsed": false,
     "input": [
      "%matplotlib inline\n",
      "import numpy as np\n",
      "import matplotlib.pyplot as plt\n",
      "from IPython.display import Image\n",
      "from IPython.display import display\n",
      "# Constants\n",
      "g_0 = 9.81         # m/s^2\n",
      "r_e = 6387.1       # km\n",
      "mu = 398600.4418   # km^3/s^2"
     ],
     "language": "python",
     "metadata": {},
     "outputs": [],
     "prompt_number": 1
    },
    {
     "cell_type": "markdown",
     "metadata": {},
     "source": [
      "Let's start by taking a look at this data we have. \n",
      "I copied out the stage 1 data (before SRB seperation) and converted it to a csv that works better with importing."
     ]
    },
    {
     "cell_type": "code",
     "collapsed": false,
     "input": [
      "# pandas is a python package for data structures, that works well with IPython for viewing\n",
      "import pandas\n",
      "# display as pretty html\n",
      "pandas.options.display.notebook_repr_html = True\n",
      "stage1 = pandas.read_csv('../resources/sts126-stage1.csv')\n",
      "display(stage1.head(10))\n",
      "display(stage1.tail(5))"
     ],
     "language": "python",
     "metadata": {},
     "outputs": [
      {
       "html": [
        "<div style=\"max-height:1000px;max-width:1500px;overflow:auto;\">\n",
        "<table border=\"1\" class=\"dataframe\">\n",
        "  <thead>\n",
        "    <tr style=\"text-align: right;\">\n",
        "      <th></th>\n",
        "      <th>TIME (SEC)</th>\n",
        "      <th>GEOD (DEG)</th>\n",
        "      <th>LONG (DEG)</th>\n",
        "      <th>ALTITUDE (FT)</th>\n",
        "      <th>ALTITUDE RATE (FPS)</th>\n",
        "      <th>V_EARTH (FPS)</th>\n",
        "      <th>V_INERTIAL (FPS)</th>\n",
        "      <th>ROLL ANGLE (DEG)</th>\n",
        "      <th>PITCH ANGLE (DEG)</th>\n",
        "      <th>YAW ANGLE (DEG)</th>\n",
        "      <th>THROTTLE (%)</th>\n",
        "      <th>ACCEL (G)</th>\n",
        "      <th>TOTAL WEIGHT (LBS)</th>\n",
        "      <th>EXTERNAL TANK WEIGHT (LBS)</th>\n",
        "    </tr>\n",
        "  </thead>\n",
        "  <tbody>\n",
        "    <tr>\n",
        "      <th>0</th>\n",
        "      <td> 0.00</td>\n",
        "      <td> 28.608</td>\n",
        "      <td>-80.604</td>\n",
        "      <td> -23</td>\n",
        "      <td>   0</td>\n",
        "      <td>   0</td>\n",
        "      <td> 1341</td>\n",
        "      <td> 0</td>\n",
        "      <td> 89.8</td>\n",
        "      <td>-43.7</td>\n",
        "      <td> 100.0</td>\n",
        "      <td> 0.25</td>\n",
        "      <td> 4522509</td>\n",
        "      <td> 1602148</td>\n",
        "    </tr>\n",
        "    <tr>\n",
        "      <th>1</th>\n",
        "      <td> 0.96</td>\n",
        "      <td> 28.608</td>\n",
        "      <td>-80.604</td>\n",
        "      <td> -21</td>\n",
        "      <td>  11</td>\n",
        "      <td>  11</td>\n",
        "      <td> 1341</td>\n",
        "      <td> 0</td>\n",
        "      <td> 89.7</td>\n",
        "      <td>-45.2</td>\n",
        "      <td> 100.0</td>\n",
        "      <td> 1.55</td>\n",
        "      <td> 4504784</td>\n",
        "      <td> 1599154</td>\n",
        "    </tr>\n",
        "    <tr>\n",
        "      <th>2</th>\n",
        "      <td> 1.92</td>\n",
        "      <td> 28.608</td>\n",
        "      <td>-80.604</td>\n",
        "      <td>  -2</td>\n",
        "      <td>  28</td>\n",
        "      <td>  28</td>\n",
        "      <td> 1341</td>\n",
        "      <td> 0</td>\n",
        "      <td> 89.6</td>\n",
        "      <td>-46.4</td>\n",
        "      <td> 100.0</td>\n",
        "      <td> 1.56</td>\n",
        "      <td> 4478882</td>\n",
        "      <td> 1596159</td>\n",
        "    </tr>\n",
        "    <tr>\n",
        "      <th>3</th>\n",
        "      <td> 2.88</td>\n",
        "      <td> 28.608</td>\n",
        "      <td>-80.604</td>\n",
        "      <td>  34</td>\n",
        "      <td>  46</td>\n",
        "      <td>  46</td>\n",
        "      <td> 1341</td>\n",
        "      <td> 0</td>\n",
        "      <td> 89.6</td>\n",
        "      <td>-48.0</td>\n",
        "      <td> 100.0</td>\n",
        "      <td> 1.57</td>\n",
        "      <td> 4452976</td>\n",
        "      <td> 1593165</td>\n",
        "    </tr>\n",
        "    <tr>\n",
        "      <th>4</th>\n",
        "      <td> 3.84</td>\n",
        "      <td> 28.608</td>\n",
        "      <td>-80.604</td>\n",
        "      <td>  86</td>\n",
        "      <td>  64</td>\n",
        "      <td>  64</td>\n",
        "      <td> 1342</td>\n",
        "      <td> 0</td>\n",
        "      <td> 89.6</td>\n",
        "      <td>-49.8</td>\n",
        "      <td> 100.0</td>\n",
        "      <td> 1.59</td>\n",
        "      <td> 4426988</td>\n",
        "      <td> 1590170</td>\n",
        "    </tr>\n",
        "    <tr>\n",
        "      <th>5</th>\n",
        "      <td> 4.80</td>\n",
        "      <td> 28.608</td>\n",
        "      <td>-80.604</td>\n",
        "      <td> 156</td>\n",
        "      <td>  82</td>\n",
        "      <td>  83</td>\n",
        "      <td> 1343</td>\n",
        "      <td> 0</td>\n",
        "      <td> 89.7</td>\n",
        "      <td>-51.3</td>\n",
        "      <td> 104.5</td>\n",
        "      <td> 1.63</td>\n",
        "      <td> 4400732</td>\n",
        "      <td> 1587072</td>\n",
        "    </tr>\n",
        "    <tr>\n",
        "      <th>6</th>\n",
        "      <td> 5.76</td>\n",
        "      <td> 28.609</td>\n",
        "      <td>-80.604</td>\n",
        "      <td> 244</td>\n",
        "      <td> 102</td>\n",
        "      <td> 103</td>\n",
        "      <td> 1344</td>\n",
        "      <td> 0</td>\n",
        "      <td> 89.7</td>\n",
        "      <td>-51.8</td>\n",
        "      <td> 104.5</td>\n",
        "      <td> 1.65</td>\n",
        "      <td> 4374212</td>\n",
        "      <td> 1583942</td>\n",
        "    </tr>\n",
        "    <tr>\n",
        "      <th>7</th>\n",
        "      <td> 6.72</td>\n",
        "      <td> 28.609</td>\n",
        "      <td>-80.604</td>\n",
        "      <td> 352</td>\n",
        "      <td> 122</td>\n",
        "      <td> 123</td>\n",
        "      <td> 1346</td>\n",
        "      <td> 0</td>\n",
        "      <td> 89.8</td>\n",
        "      <td>-52.6</td>\n",
        "      <td> 104.5</td>\n",
        "      <td> 1.67</td>\n",
        "      <td> 4347482</td>\n",
        "      <td> 1580812</td>\n",
        "    </tr>\n",
        "    <tr>\n",
        "      <th>8</th>\n",
        "      <td> 7.68</td>\n",
        "      <td> 28.609</td>\n",
        "      <td>-80.604</td>\n",
        "      <td> 480</td>\n",
        "      <td> 143</td>\n",
        "      <td> 144</td>\n",
        "      <td> 1348</td>\n",
        "      <td> 0</td>\n",
        "      <td> 89.8</td>\n",
        "      <td>-43.9</td>\n",
        "      <td> 104.5</td>\n",
        "      <td> 1.69</td>\n",
        "      <td> 4320624</td>\n",
        "      <td> 1577682</td>\n",
        "    </tr>\n",
        "    <tr>\n",
        "      <th>9</th>\n",
        "      <td> 8.64</td>\n",
        "      <td> 28.609</td>\n",
        "      <td>-80.604</td>\n",
        "      <td> 628</td>\n",
        "      <td> 165</td>\n",
        "      <td> 166</td>\n",
        "      <td> 1350</td>\n",
        "      <td> 0</td>\n",
        "      <td> 89.7</td>\n",
        "      <td> 35.9</td>\n",
        "      <td> 104.5</td>\n",
        "      <td> 1.71</td>\n",
        "      <td> 4293672</td>\n",
        "      <td> 1574553</td>\n",
        "    </tr>\n",
        "  </tbody>\n",
        "</table>\n",
        "<p>10 rows \u00d7 14 columns</p>\n",
        "</div>"
       ],
       "metadata": {},
       "output_type": "display_data",
       "text": [
        "   TIME (SEC)  GEOD (DEG)  LONG (DEG)  ALTITUDE (FT)  ALTITUDE RATE (FPS)  \\\n",
        "0        0.00      28.608     -80.604            -23                    0   \n",
        "1        0.96      28.608     -80.604            -21                   11   \n",
        "2        1.92      28.608     -80.604             -2                   28   \n",
        "3        2.88      28.608     -80.604             34                   46   \n",
        "4        3.84      28.608     -80.604             86                   64   \n",
        "5        4.80      28.608     -80.604            156                   82   \n",
        "6        5.76      28.609     -80.604            244                  102   \n",
        "7        6.72      28.609     -80.604            352                  122   \n",
        "8        7.68      28.609     -80.604            480                  143   \n",
        "9        8.64      28.609     -80.604            628                  165   \n",
        "\n",
        "   V_EARTH (FPS)  V_INERTIAL (FPS)  ROLL ANGLE (DEG)  PITCH ANGLE (DEG)  \\\n",
        "0              0              1341                 0               89.8   \n",
        "1             11              1341                 0               89.7   \n",
        "2             28              1341                 0               89.6   \n",
        "3             46              1341                 0               89.6   \n",
        "4             64              1342                 0               89.6   \n",
        "5             83              1343                 0               89.7   \n",
        "6            103              1344                 0               89.7   \n",
        "7            123              1346                 0               89.8   \n",
        "8            144              1348                 0               89.8   \n",
        "9            166              1350                 0               89.7   \n",
        "\n",
        "   YAW ANGLE (DEG)  THROTTLE (%)  ACCEL (G)  TOTAL WEIGHT (LBS)  \\\n",
        "0            -43.7         100.0       0.25             4522509   \n",
        "1            -45.2         100.0       1.55             4504784   \n",
        "2            -46.4         100.0       1.56             4478882   \n",
        "3            -48.0         100.0       1.57             4452976   \n",
        "4            -49.8         100.0       1.59             4426988   \n",
        "5            -51.3         104.5       1.63             4400732   \n",
        "6            -51.8         104.5       1.65             4374212   \n",
        "7            -52.6         104.5       1.67             4347482   \n",
        "8            -43.9         104.5       1.69             4320624   \n",
        "9             35.9         104.5       1.71             4293672   \n",
        "\n",
        "   EXTERNAL TANK WEIGHT (LBS)  \n",
        "0                     1602148  \n",
        "1                     1599154  \n",
        "2                     1596159  \n",
        "3                     1593165  \n",
        "4                     1590170  \n",
        "5                     1587072  \n",
        "6                     1583942  \n",
        "7                     1580812  \n",
        "8                     1577682  \n",
        "9                     1574553  \n",
        "\n",
        "[10 rows x 14 columns]"
       ]
      },
      {
       "html": [
        "<div style=\"max-height:1000px;max-width:1500px;overflow:auto;\">\n",
        "<table border=\"1\" class=\"dataframe\">\n",
        "  <thead>\n",
        "    <tr style=\"text-align: right;\">\n",
        "      <th></th>\n",
        "      <th>TIME (SEC)</th>\n",
        "      <th>GEOD (DEG)</th>\n",
        "      <th>LONG (DEG)</th>\n",
        "      <th>ALTITUDE (FT)</th>\n",
        "      <th>ALTITUDE RATE (FPS)</th>\n",
        "      <th>V_EARTH (FPS)</th>\n",
        "      <th>V_INERTIAL (FPS)</th>\n",
        "      <th>ROLL ANGLE (DEG)</th>\n",
        "      <th>PITCH ANGLE (DEG)</th>\n",
        "      <th>YAW ANGLE (DEG)</th>\n",
        "      <th>THROTTLE (%)</th>\n",
        "      <th>ACCEL (G)</th>\n",
        "      <th>TOTAL WEIGHT (LBS)</th>\n",
        "      <th>EXTERNAL TANK WEIGHT (LBS)</th>\n",
        "    </tr>\n",
        "  </thead>\n",
        "  <tbody>\n",
        "    <tr>\n",
        "      <th>125</th>\n",
        "      <td> 120.00</td>\n",
        "      <td> 28.897</td>\n",
        "      <td>-80.252</td>\n",
        "      <td> 148078</td>\n",
        "      <td> 2153</td>\n",
        "      <td> 4317</td>\n",
        "      <td> 5280</td>\n",
        "      <td> 180.8</td>\n",
        "      <td> 26.2</td>\n",
        "      <td> 3.9</td>\n",
        "      <td> 104.5</td>\n",
        "      <td> 0.89</td>\n",
        "      <td> 1926923</td>\n",
        "      <td> 1227755</td>\n",
        "    </tr>\n",
        "    <tr>\n",
        "      <th>126</th>\n",
        "      <td> 120.96</td>\n",
        "      <td> 28.903</td>\n",
        "      <td>-80.243</td>\n",
        "      <td> 150139</td>\n",
        "      <td> 2141</td>\n",
        "      <td> 4328</td>\n",
        "      <td> 5293</td>\n",
        "      <td> 180.8</td>\n",
        "      <td> 26.1</td>\n",
        "      <td> 3.9</td>\n",
        "      <td> 104.5</td>\n",
        "      <td> 0.86</td>\n",
        "      <td> 1923019</td>\n",
        "      <td> 1224625</td>\n",
        "    </tr>\n",
        "    <tr>\n",
        "      <th>127</th>\n",
        "      <td> 121.92</td>\n",
        "      <td> 28.910</td>\n",
        "      <td>-80.235</td>\n",
        "      <td> 152188</td>\n",
        "      <td> 2128</td>\n",
        "      <td> 4338</td>\n",
        "      <td> 5305</td>\n",
        "      <td> 180.8</td>\n",
        "      <td> 25.8</td>\n",
        "      <td> 3.9</td>\n",
        "      <td> 104.5</td>\n",
        "      <td> 0.83</td>\n",
        "      <td> 1919318</td>\n",
        "      <td> 1221495</td>\n",
        "    </tr>\n",
        "    <tr>\n",
        "      <th>128</th>\n",
        "      <td> 122.88</td>\n",
        "      <td> 28.917</td>\n",
        "      <td>-80.227</td>\n",
        "      <td> 154224</td>\n",
        "      <td> 2115</td>\n",
        "      <td> 4348</td>\n",
        "      <td> 5317</td>\n",
        "      <td> 180.9</td>\n",
        "      <td> 25.6</td>\n",
        "      <td> 3.9</td>\n",
        "      <td> 104.5</td>\n",
        "      <td> 0.82</td>\n",
        "      <td> 1915762</td>\n",
        "      <td> 1218365</td>\n",
        "    </tr>\n",
        "    <tr>\n",
        "      <th>129</th>\n",
        "      <td> 123.04</td>\n",
        "      <td> 28.918</td>\n",
        "      <td>-80.225</td>\n",
        "      <td> 154562</td>\n",
        "      <td> 2113</td>\n",
        "      <td> 4350</td>\n",
        "      <td> 5319</td>\n",
        "      <td> 180.9</td>\n",
        "      <td> 25.6</td>\n",
        "      <td> 3.9</td>\n",
        "      <td> 104.5</td>\n",
        "      <td> 0.81</td>\n",
        "      <td> 1915181</td>\n",
        "      <td> 1217843</td>\n",
        "    </tr>\n",
        "  </tbody>\n",
        "</table>\n",
        "<p>5 rows \u00d7 14 columns</p>\n",
        "</div>"
       ],
       "metadata": {},
       "output_type": "display_data",
       "text": [
        "     TIME (SEC)  GEOD (DEG)  LONG (DEG)  ALTITUDE (FT)  ALTITUDE RATE (FPS)  \\\n",
        "125      120.00      28.897     -80.252         148078                 2153   \n",
        "126      120.96      28.903     -80.243         150139                 2141   \n",
        "127      121.92      28.910     -80.235         152188                 2128   \n",
        "128      122.88      28.917     -80.227         154224                 2115   \n",
        "129      123.04      28.918     -80.225         154562                 2113   \n",
        "\n",
        "     V_EARTH (FPS)  V_INERTIAL (FPS)  ROLL ANGLE (DEG)  PITCH ANGLE (DEG)  \\\n",
        "125           4317              5280             180.8               26.2   \n",
        "126           4328              5293             180.8               26.1   \n",
        "127           4338              5305             180.8               25.8   \n",
        "128           4348              5317             180.9               25.6   \n",
        "129           4350              5319             180.9               25.6   \n",
        "\n",
        "     YAW ANGLE (DEG)  THROTTLE (%)  ACCEL (G)  TOTAL WEIGHT (LBS)  \\\n",
        "125              3.9         104.5       0.89             1926923   \n",
        "126              3.9         104.5       0.86             1923019   \n",
        "127              3.9         104.5       0.83             1919318   \n",
        "128              3.9         104.5       0.82             1915762   \n",
        "129              3.9         104.5       0.81             1915181   \n",
        "\n",
        "     EXTERNAL TANK WEIGHT (LBS)  \n",
        "125                     1227755  \n",
        "126                     1224625  \n",
        "127                     1221495  \n",
        "128                     1218365  \n",
        "129                     1217843  \n",
        "\n",
        "[5 rows x 14 columns]"
       ]
      }
     ],
     "prompt_number": 2
    },
    {
     "cell_type": "heading",
     "level": 4,
     "metadata": {},
     "source": [
      "Part (a): $\\Delta V_{\\mathrm{ideal}}$"
     ]
    },
    {
     "cell_type": "markdown",
     "metadata": {},
     "source": [
      "To calculate the $\\Delta V_{\\mathrm{ideal}}$ we need to integrate the following formula,\n",
      "\\begin{equation*}\\Delta V_{\\mathrm{ideal}} = \\int_{0}^{123.04} \\frac{T(t)}{M(t)} dt \\end{equation*}\n",
      "We are going to perform a numerical integeration (trapz) over our data, so I need arrays of the thrust and mass (in proper units).\n",
      "The mass is given as total weight in lbs.\n",
      "Let's start by converting that mass to SI units."
     ]
    },
    {
     "cell_type": "code",
     "collapsed": false,
     "input": [
      "lb_to_kg = 0.4535\n",
      "m_arr = np.array(stage1['TOTAL WEIGHT (LBS)']*lb_to_kg)"
     ],
     "language": "python",
     "metadata": {},
     "outputs": [],
     "prompt_number": 3
    },
    {
     "cell_type": "markdown",
     "metadata": {},
     "source": [
      "Thrust is a bit trickier.\n",
      "The column labelled **THROTTLE** is the percentage of throttle of the Space Shuttle Main Engine.\n",
      "There are three (3) SSME's and two (2) Solid Rocket Boosters (SRB's) in the first stage.\n",
      "Thrust from the SRB is not actually constant, but for the purposes of this problem it is probably safe to say it is.\n",
      "[NASA](http://www.nasa.gov/returntoflight/system/system_SRB.html) quotes 5.3 million lbf as thrust from both Solid Rocket Boosters (together).\n",
      "For the main engines, we can find total thrust and use the throttle percent to adjust.\n",
      "[Aerojet-Rocketdyne](http://www.rocket.com/space-shuttle-main-engine-0) provides data on SSME thrust as 418,000 lbf at sea level.\n",
      "As discussed in class, this _also_ is not constant, you gain thrust as the atmosphere pressure drops, but for now we assume constant."
     ]
    },
    {
     "cell_type": "code",
     "collapsed": false,
     "input": [
      "lbf_to_N = 4.448\n",
      "Tssme = 418 * 1e3 * lbf_to_N\n",
      "Tsrb2 = 5.3 * 1e6 * lbf_to_N\n",
      "# Total thrust throughout first stage\n",
      "SSME_throttle = np.array(stage1['THROTTLE (%)'])/100\n",
      "T_arr = 3*Tssme*SSME_throttle + Tsrb2"
     ],
     "language": "python",
     "metadata": {},
     "outputs": [],
     "prompt_number": 4
    },
    {
     "cell_type": "markdown",
     "metadata": {},
     "source": [
      "Now just use trapz to integrate, after we grab the time column too (this one needs no conversions, phew!)"
     ]
    },
    {
     "cell_type": "code",
     "collapsed": false,
     "input": [
      "t_arr = np.array(stage1['TIME (SEC)'])\n",
      "dV_ideal_integrand = T_arr/m_arr\n",
      "dV_ideal = np.trapz(dV_ideal_integrand,t_arr)\n",
      "print \"dV_ideal:\\t{:.1f} m/s\".format(dV_ideal)"
     ],
     "language": "python",
     "metadata": {},
     "outputs": [
      {
       "output_type": "stream",
       "stream": "stdout",
       "text": [
        "dV_ideal:\t2795.1 m/s\n"
       ]
      }
     ],
     "prompt_number": 5
    },
    {
     "cell_type": "markdown",
     "metadata": {},
     "source": [
      "\\begin{equation*}\n",
      "\\Delta V_{\\mathrm{ideal}} = 2.79 \\mathrm{km/s}\n",
      "\\end{equation*}"
     ]
    },
    {
     "cell_type": "heading",
     "level": 5,
     "metadata": {},
     "source": [
      "Part (b): $\\Delta V_{\\mathrm{grav}}$ for the following three different assumptions:"
     ]
    },
    {
     "cell_type": "heading",
     "level": 6,
     "metadata": {},
     "source": [
      "(i) A constant $g_0$ and vertical launch"
     ]
    },
    {
     "cell_type": "markdown",
     "metadata": {},
     "source": [
      "We considered this case in our notes, and requires no integration.\n",
      "Both $g_0$ and $\\sin\\theta = 1$ are constant, so we take them outside the integral.\n",
      "\\begin{align*}\n",
      "\\Delta V_{\\mathrm{grav}} &= \\int g_0 \\sin(\\theta)dt \\\\\n",
      "&= g_0 \\Delta t\n",
      "\\end{align*}"
     ]
    },
    {
     "cell_type": "code",
     "collapsed": false,
     "input": [
      "dV_grav_const_vert = g_0*t_arr[-1]\n",
      "print \"dV_grav, constant g0, vertical launch:\\t\\t{:0.1f} m/s\".format(dV_grav_const_vert)"
     ],
     "language": "python",
     "metadata": {},
     "outputs": [
      {
       "output_type": "stream",
       "stream": "stdout",
       "text": [
        "dV_grav, constant g0, vertical launch:\t\t1207.0 m/s\n"
       ]
      }
     ],
     "prompt_number": 6
    },
    {
     "cell_type": "heading",
     "level": 6,
     "metadata": {},
     "source": [
      "(ii) A constant $g_0$"
     ]
    },
    {
     "cell_type": "markdown",
     "metadata": {},
     "source": [
      "No longer being able to assume vertical launch, we have to perform the integration.\n",
      "The **PITCH ANGLE** column provides our $\\theta(t)$.\n",
      "\\begin{align*}\n",
      "\\Delta V_{\\mathrm{grav}} &= \\int g_0 \\sin(\\theta)dt \\\\\n",
      "&= g_0 \\int_{0}^{123.05} \\sin(\\theta(t)) dt\n",
      "\\end{align*}"
     ]
    },
    {
     "cell_type": "code",
     "collapsed": false,
     "input": [
      "# store pitch angle in radians\n",
      "theta_arr = np.deg2rad(np.array(stage1['PITCH ANGLE (DEG)']))\n",
      "\n",
      "dV_grav_const = g_0*(np.trapz(np.sin(theta_arr),t_arr))\n",
      "print \"dV_grav, constant g0, not vertical launch:\\t{:0.1f} m/s\".format(dV_grav_const)"
     ],
     "language": "python",
     "metadata": {},
     "outputs": [
      {
       "output_type": "stream",
       "stream": "stdout",
       "text": [
        "dV_grav, constant g0, not vertical launch:\t934.1 m/s\n"
       ]
      }
     ],
     "prompt_number": 7
    },
    {
     "cell_type": "heading",
     "level": 6,
     "metadata": {},
     "source": [
      "(iii) Use $g(h)$, the gravitational acceleration as a function of altitude\n",
      "        \\begin{equation*}\n",
      "        g(h) = g_0\\left(\\frac{r_e}{r_e+h}\\right)^2\n",
      "        \\end{equation*}\n",
      "        where $r_e$ is the radius of the Earth, and $h$ is height above sea level."
     ]
    },
    {
     "cell_type": "markdown",
     "metadata": {},
     "source": [
      "To perform this integration we need to know the altitude as a function of time to figure out local gravity as a function of time because $g(t)=g(h(t))$.\n",
      "Altitude is given in the **ALTITUDE** column, but in feet of course!\n",
      "\\begin{align*}\n",
      "\\Delta V_{\\mathrm{grav}} &= \\int g_0 \\sin(\\theta)dt \\\\\n",
      "&= \\int_{0}^{123.05} g(h) \\sin(\\theta(t)) dt \\\\\n",
      "&= \\int_{0}^{123.05} g(t) \\sin(\\theta(t)) dt\n",
      "\\end{align*}"
     ]
    },
    {
     "cell_type": "code",
     "collapsed": false,
     "input": [
      "# convert altitude to kilometers\n",
      "ft_to_m = 0.3048\n",
      "alt_arr = np.array(stage1['ALTITUDE (FT)']) * (ft_to_m/1000.0)\n",
      "# quick function to solve the g equation\n",
      "def g(h):\n",
      "    return g_0*(r_e/(r_e+h))**2\n",
      "# find the gravity at each point\n",
      "g_arr = g(alt_arr)\n",
      "\n",
      "dV_grav = np.trapz(g_arr*np.sin(theta_arr),t_arr)\n",
      "print \"dV_grav, varying g, not vertical launch:\\t{:0.1f} m/s\".format(dV_grav)"
     ],
     "language": "python",
     "metadata": {},
     "outputs": [
      {
       "output_type": "stream",
       "stream": "stdout",
       "text": [
        "dV_grav, varying g, not vertical launch:\t930.4 m/s\n"
       ]
      }
     ],
     "prompt_number": 8
    },
    {
     "cell_type": "heading",
     "level": 6,
     "metadata": {},
     "source": [
      "(iv) Comment on the three different values you found for each and the validity of the simplifications in (i) and (ii)"
     ]
    },
    {
     "cell_type": "markdown",
     "metadata": {},
     "source": [
      "Taking a look at these values again, next to each other."
     ]
    },
    {
     "cell_type": "code",
     "collapsed": false,
     "input": [
      "print \"dV_grav, constant g0, vertical launch:\\t\\t{:0.1f} m/s\".format(dV_grav_const_vert)\n",
      "print \"dV_grav, constant g0, not vertical launch:\\t{:0.1f} m/s\".format(dV_grav_const)\n",
      "print \"dV_grav, varying g, not vertical launch:\\t{:0.1f} m/s\".format(dV_grav)"
     ],
     "language": "python",
     "metadata": {},
     "outputs": [
      {
       "output_type": "stream",
       "stream": "stdout",
       "text": [
        "dV_grav, constant g0, vertical launch:\t\t1207.0 m/s\n",
        "dV_grav, constant g0, not vertical launch:\t934.1 m/s\n",
        "dV_grav, varying g, not vertical launch:\t930.4 m/s\n"
       ]
      }
     ],
     "prompt_number": 9
    },
    {
     "cell_type": "markdown",
     "metadata": {},
     "source": [
      "The assumption of a vertical launch is _not very good at all_!\n",
      "However, using a non-constant value for $g$ makes very little of a difference, less than 0.5% of a change.\n",
      "Thus, using the constant $g_0$ is a good assumption for LEO launches."
     ]
    },
    {
     "cell_type": "heading",
     "level": 5,
     "metadata": {},
     "source": [
      "Part (c): $\\Delta V_{\\mathrm{drag}}$"
     ]
    },
    {
     "cell_type": "markdown",
     "metadata": {},
     "source": [
      "Although at first look this may seem daunting, we are actually only solving the first equation algebraically.\n",
      "\\begin{align*}\n",
      "\\Delta V &= \\Delta V_{ideal} - \\Delta V_{grav} - \\Delta V_{drag} \\\\\n",
      "\\Delta V &- \\Delta V_{ideal} + \\Delta V_{grav} = \\Delta V_{drag}\n",
      "\\end{align*}\n",
      "But now you may ask, what is the plain $\\Delta V$?\n",
      "Well, that is the _actual_, realized, $\\Delta V$!\n",
      "In other words, it is the difference between the velocity at the end of integration (t=123.05) to the beginning of integration (t=0, and v=0).\n",
      "Since we start from the launchpad, we just want to look at the final velocity.\n",
      "For this we want to use the velocity _relative to earth_.\n",
      "Theoritically, you can use the intertial velocity if you subtract off the intertial velocity at t=0, but this data shows a slight discrepency between them.\n",
      "Once we know this value, we just solve the above equation for $\\Delta V_{drag}$."
     ]
    },
    {
     "cell_type": "code",
     "collapsed": false,
     "input": [
      "# Use relative to earth, not inertial!\n",
      "# Converting to meters/sec here\n",
      "ve_arr = stage1['V_EARTH (FPS)'].values * 0.3048\n",
      "dV_total = ve_arr[-1]\n",
      "# TODO: investigate why this varies\n",
      "#dV_total = (stage1['V_INERTIAL (FPS)'].values[-1] - stage1['V_INERTIAL (FPS)'].values[0]) * 0.3048\n",
      "\n",
      "dV_drag = dV_ideal - dV_total - dV_grav\n",
      "\n",
      "print \"dV_total:\\t{:4.1f} m/s\".format(dV_total)\n",
      "print \"dV_drag:\\t{:4.1f} m/s\".format(dV_drag)"
     ],
     "language": "python",
     "metadata": {},
     "outputs": [
      {
       "output_type": "stream",
       "stream": "stdout",
       "text": [
        "dV_total:\t1325.9 m/s\n",
        "dV_drag:\t538.9 m/s\n"
       ]
      }
     ],
     "prompt_number": 10
    },
    {
     "cell_type": "heading",
     "level": 5,
     "metadata": {},
     "source": [
      "(d) Estimate $C_D$ of the Space Shuttle in the first stage configuration (Orbiter, External Tank, Solid Rocket Boosters). You are free to make assumptions and use approximate values where needed, so long as they are justified!"
     ]
    },
    {
     "cell_type": "markdown",
     "metadata": {},
     "source": [
      "Now we are being asked to solve the drag formula,\n",
      "\\begin{align*}\n",
      "\\Delta V_{drag}  &= \\int_{t_0}^{t_f} \\frac{D(t)}{M(t)} dt \\\\\n",
      "D &= \\frac{1}{2}\\rho V^2 A_f C_D \\\\\n",
      "D(t) &= \\frac{1}{2} \\rho(h(t)) V(t)^2 A_f C_D\n",
      "\\end{align*}\n",
      "Only density and velocity are dependent on time, thus we can simplify our integral.\n",
      "\\begin{align*}\n",
      "\\Delta V_{drag} &= \\int_{t_0}^{t_f} \\frac{D(t)}{M(t)} dt \\\\\n",
      "\\Delta V_{drag} &= A_f C_D \\int_{t_0}^{t_f} \\frac{1}{2}\\rho(h(t)) V(t)^2 \\frac{1}{M(t)} dt\n",
      "\\end{align*}\n",
      "We leave the terms seperate because dynamic pressure is defined as $Q=\\frac{1}{2}\\rho V^2$, and so the integral simplifies to,\n",
      "\\begin{align*}\n",
      "\\Delta V_{drag} &= \\int_{t_0}^{t_f} \\frac{D(t)}{M(t)} dt \\\\\n",
      "\\Delta V_{drag} &= A_f C_D \\int_{t_0}^{t_f} \\frac{Q(t)}{M(t)} dt \\\\\n",
      "C_D &= \\frac{\\Delta V_{drag}}{A_f \\int_{t_0}^{t_f} \\frac{Q(t)}{M(t)} dt}\n",
      "\\end{align*}\n",
      "So to solve this, we just need to find a cross sectional area of the stage 1 of the Space Shuttle and perform the numerical integration."
     ]
    },
    {
     "cell_type": "markdown",
     "metadata": {},
     "source": [
      "For estimating the frontal area I used [various](http://science.ksc.nasa.gov/shuttle/technology/sts-newsref/srb.html) [NASA](http://science.ksc.nasa.gov/shuttle/technology/sts-newsref/et.html) [resources](http://history.nasa.gov/rogersrep/v3o378b.jpg) and the following image from [Wired](http://www.wired.com/2011/04/shuttle-manual-excerpt/) which claims it came from the Space Shuttle manual.\n",
      "I modelled the Orbiter as two rectangles, one encompassing the fuselage, and one for the wings."
     ]
    },
    {
     "cell_type": "code",
     "collapsed": false,
     "input": [
      "Image(\"http://www.wired.com/images_blogs/wiredscience/2011/04/shuttle_dimensions_4001.png\")"
     ],
     "language": "python",
     "metadata": {},
     "outputs": [
      {
       "metadata": {},
       "output_type": "pyout",
       "png": "[encoded data removed]",
       "prompt_number": 11,
       "text": [
        "<IPython.core.display.Image at 0x33a8910>"
       ]
      }
     ],
     "prompt_number": 11
    },
    {
     "cell_type": "code",
     "collapsed": false,
     "input": [
      "fttom  = 0.3048 \n",
      "D_srb  = 12.17 * fttom\n",
      "D_et   = 27.60 * fttom\n",
      "h_orb  = 23.75 * fttom\n",
      "w_orb  = 22.67 * fttom\n",
      "h_wing = (78.06-22.67) * fttom\n",
      "w_wing = 10.50 * fttom\n",
      "Af = np.pi*D_srb + np.pi*D_et + (h_orb*w_orb) + (h_wing*w_wing)\n",
      "print \"Estimated Stage1 frontal area: {:0.2f} m^2\".format(Af)"
     ],
     "language": "python",
     "metadata": {},
     "outputs": [
      {
       "output_type": "stream",
       "stream": "stdout",
       "text": [
        "Estimated Stage1 frontal area: 142.13 m^2\n"
       ]
      }
     ],
     "prompt_number": 12
    },
    {
     "cell_type": "markdown",
     "metadata": {},
     "source": [
      "Next let's find dynamic pressure and solve the integral.\n",
      "For the atmospheric data, I found [this resource](http://www.pdas.com/atmos.html) which provides a nice Python function (and other languages) for table lookup of the 1976 Standard Atmosphere."
     ]
    },
    {
     "cell_type": "code",
     "collapsed": false,
     "input": [
      "import sys\n",
      "sys.path.insert(0,'../resources/atmos/')\n",
      "import tables;\n",
      "\n",
      "# tables.Atmosphere fails on negative values, this clips <0 to 0\n",
      "alt_arr.clip(0)\n",
      "\n",
      "# Fill out an atmosphere density array for altitudes\n",
      "rho_arr = np.zeros(np.shape(alt_arr))\n",
      "for i in range(0,np.size(alt_arr)):\n",
      "    rho_arr[i] = tables.Atmosphere(alt_arr[i])[0]*tables.RHOZERO\n",
      "\n",
      "# Dynamic pressure array\n",
      "Q_arr = 0.5*rho_arr*(ve_arr**2)"
     ],
     "language": "python",
     "metadata": {},
     "outputs": [
      {
       "output_type": "stream",
       "stream": "stdout",
       "text": [
        "Executing  -c\n",
        "Tables - A Python program to compute atmosphere tables\n",
        "Ralph L. Carmichael, Public Domain Aeronautical Software\n",
        "    version  1.0 (2004 Oct 04)\n",
        "Four files added to your directory.\n",
        "Normal termination of tables.\n"
       ]
      }
     ],
     "prompt_number": 13
    },
    {
     "cell_type": "markdown",
     "metadata": {},
     "source": [
      "Now we can solve the formula for $C_D$ and perform the integral."
     ]
    },
    {
     "cell_type": "code",
     "collapsed": false,
     "input": [
      "Qint = np.trapz(Q_arr/m_arr,t_arr)\n",
      "Cd = (dV_drag)/(Af*Qint)\n",
      "print \"Cd:\\t{:1.2f}\".format(Cd)"
     ],
     "language": "python",
     "metadata": {},
     "outputs": [
      {
       "output_type": "stream",
       "stream": "stdout",
       "text": [
        "Cd:\t2.40\n"
       ]
      }
     ],
     "prompt_number": 14
    },
    {
     "cell_type": "markdown",
     "metadata": {},
     "source": [
      "This is pretty good, but if we think about the assumptions we made, we can improve on this.\n",
      "The drag formula does not work very well when we're going through max dynamic pressure, lots of complicated flow is happening.\n",
      "We also don't get great results if do an integral before max $Q$, and my theory on this is explained below.\n",
      "But where is max $Q$?\n",
      "Let's take a look at a rough plot of dynamic pressure."
     ]
    },
    {
     "cell_type": "code",
     "collapsed": false,
     "input": [
      "fig,ax=plt.subplots()\n",
      "ax.plot(t_arr,Q_arr/np.max(Q_arr),label=\"dynamic pressure (Q)\")\n",
      "ax.plot(t_arr,(stage1['THROTTLE (%)'].values)/100,label=\"thrust\")\n",
      "ax.plot(t_arr,(theta_arr)/np.max(theta_arr),label=\"pitch angle\")\n",
      "ax.set_xlabel(\"time\")\n",
      "ax.set_yticks([])\n",
      "ax.set_title(\"this graph is not to scale\")\n",
      "ax.legend(bbox_to_anchor=(1.,0),loc=3);"
     ],
     "language": "python",
     "metadata": {},
     "outputs": [
      {
       "metadata": {},
       "output_type": "display_data",
       "png": "[encoded data removed]",
       "text": [
        "<matplotlib.figure.Figure at 0x4c8f350>"
       ]
      }
     ],
     "prompt_number": 15
    },
    {
     "cell_type": "markdown",
     "metadata": {},
     "source": [
      "I've included thrust because I know that at max dynamic pressure they throttle down, so my data lines up fairly well with that.\n",
      "Pitch angle is included too, because one of the assumptions we made was that steering loss was negligble.\n",
      "Steering loss is due to a difference between flight direction and thrust direction.\n",
      "As turns are performed at the beginning, the steering loss is greater.\n",
      "After max Q, the turns are not as drastic and steering loss is not as big of a factor.\n",
      "For this reason, I chose integral limits after max dynamic pressure during a nice steady period between $t=70$s and $t=90$s.\n",
      "\n",
      "You also have to take care to recalculate the variables from the other integrations with the new limits."
     ]
    },
    {
     "cell_type": "code",
     "collapsed": false,
     "input": [
      "start_time = 70\n",
      "end_time   = 90\n",
      "\n",
      "indices = np.where((t_arr>start_time) & (t_arr<end_time))\n",
      "\n",
      "# Find the dV values for this range\n",
      "dV_ideal_sub = np.trapz(T_arr[indices]/m_arr[indices],t_arr[indices])\n",
      "dV_grav_sub  = np.trapz(g_arr[indices]*np.sin(theta_arr[indices]),t_arr[indices])\n",
      "dV_total_sub = ve_arr[indices][-1] - ve_arr[indices][0]\n",
      "dV_drag_sub  = dV_ideal_sub - dV_total_sub - dV_grav_sub\n",
      "\n",
      "# Find the dynamic pressure integral\n",
      "Qint_sub = np.trapz(Q_arr[indices]/m_arr[indices],t_arr[indices])\n",
      "Cd = (dV_drag_sub)/(Af*Qint_sub)\n",
      "print \"Cd:\\t\\t\",Cd"
     ],
     "language": "python",
     "metadata": {},
     "outputs": [
      {
       "output_type": "stream",
       "stream": "stdout",
       "text": [
        "Cd:\t\t0.90856784595\n"
       ]
      }
     ],
     "prompt_number": 16
    },
    {
     "cell_type": "markdown",
     "metadata": {},
     "source": [
      "$C_D$ is typically around this range, so this is not too bad of a result."
     ]
    },
    {
     "cell_type": "heading",
     "level": 3,
     "metadata": {},
     "source": [
      "Bonus"
     ]
    },
    {
     "cell_type": "markdown",
     "metadata": {},
     "source": [
      "The SRB thrust is actually not a constant.\n",
      "The plot below shows how it tapers off (graph generated by Wikipedia, but data from [NASA](http://caib.nasa.gov/news/working_scenario/pdf/sts107workingscenario.pdf)).\n",
      "My analysis above used a constant value."
     ]
    },
    {
     "cell_type": "code",
     "collapsed": false,
     "input": [
      "Image('http://upload.wikimedia.org/wikipedia/commons/thumb/3/31/Srbthrust2.svg/695px-Srbthrust2.svg.png', width=500)"
     ],
     "language": "python",
     "metadata": {},
     "outputs": [
      {
       "metadata": {
        "png": {
         "width": 500
        }
       },
       "output_type": "pyout",
       "png": "[encoded data removed]",
       "prompt_number": 17,
       "text": [
        "<IPython.core.display.Image at 0x4c9e850>"
       ]
      }
     ],
     "prompt_number": 17
    },
    {
     "cell_type": "markdown",
     "metadata": {},
     "source": [
      "We can recreate this graph using a series of linear segments."
     ]
    },
    {
     "cell_type": "code",
     "collapsed": false,
     "input": [
      "# Model as a series of linear\n",
      "def SRB_thrust(t):\n",
      "    if t>=0.0 and t<21.0:\n",
      "        m = (3.05-2.8)/21\n",
      "        b = 2.8\n",
      "    elif t>=21.0 and t<50.0:\n",
      "        m = (2.25-3.05)/(50-21)\n",
      "        b = 3.05 - m*21.0\n",
      "    elif t>=50.0 and t<78.0:\n",
      "        m = (2.55-2.25)/(78-50)\n",
      "        b = 2.25 - m*50.0\n",
      "    elif t>=78.0 and t<110.0:\n",
      "        m = (1.60-2.55)/(110-78)\n",
      "        b = 2.55 - m*78.0\n",
      "    else:\n",
      "        m = (0.3-1.60)/(120-110)\n",
      "        b = 1.6 - m*110\n",
      "    return (m*t+b)*1e6\n",
      "# Fill the thrust\n",
      "T_srb=np.zeros(np.shape(t_arr))\n",
      "for i in range(0,len(t_arr)):\n",
      "    T_srb[i] = SRB_thrust(t_arr[i])\n",
      "\n",
      "# Plot to verify code works\n",
      "fig,ax=plt.subplots()\n",
      "ax.plot(t_arr,T_srb,label=\"thrust of srb\")\n",
      "ax.set_xlabel(\"Mission Elapsed Time (sec.)\")\n",
      "ax.set_xlabel(\"SRB Thrust (lbf)\")\n",
      "ax.set_ylim([0,3200000])\n",
      "ax.set_xlim([0,130])\n",
      "ax.yaxis.set_ticks([tick*200000 for tick in range(0,16)])\n",
      "ax.xaxis.set_ticks([tick*10 for tick in range(0,13)])\n",
      "ax.grid(True,which=\"both\")"
     ],
     "language": "python",
     "metadata": {},
     "outputs": [
      {
       "metadata": {},
       "output_type": "display_data",
       "png": "[encoded data removed]",
       "text": [
        "<matplotlib.figure.Figure at 0x4e445d0>"
       ]
      }
     ],
     "prompt_number": 18
    },
    {
     "cell_type": "markdown",
     "metadata": {},
     "source": [
      "Now we can recalculate our first integral."
     ]
    },
    {
     "cell_type": "code",
     "collapsed": false,
     "input": [
      "Tsrb2 = 2.0*T_srb*lbf_to_N\n",
      "T_newarr = 3*Tssme*SSME_throttle + Tsrb2\n",
      "dV_ideal_integrand = T_newarr/m_arr\n",
      "dV_ideal = np.trapz(dV_ideal_integrand,t_arr)\n",
      "print \"dV_ideal:\\t{:.1f} m/s\".format(dV_ideal)"
     ],
     "language": "python",
     "metadata": {},
     "outputs": [
      {
       "output_type": "stream",
       "stream": "stdout",
       "text": [
        "dV_ideal:\t2359.8 m/s\n"
       ]
      }
     ],
     "prompt_number": 19
    },
    {
     "cell_type": "markdown",
     "metadata": {},
     "source": [
      "This is quite a big difference, we went from 2.8km/s to 2.4km/s.\n",
      "Integrating over the time step we used before."
     ]
    },
    {
     "cell_type": "code",
     "collapsed": false,
     "input": [
      "start_time = 70\n",
      "end_time   = 90\n",
      "indices = np.where((t_arr>start_time) & (t_arr<end_time))\n",
      "\n",
      "# Find the dV values for this range\n",
      "dV_ideal_sub = np.trapz(T_newarr[indices]/m_arr[indices],t_arr[indices])\n",
      "dV_grav_sub  = np.trapz(g_arr[indices]*np.sin(theta_arr[indices]),t_arr[indices])\n",
      "dV_total_sub = ve_arr[indices][-1] - ve_arr[indices][0]\n",
      "dV_drag_sub  = dV_ideal_sub - dV_total_sub - dV_grav_sub\n",
      "\n",
      "# Find the dynamic pressure integral\n",
      "Qint_sub = np.trapz(Q_arr[indices]/m_arr[indices],t_arr[indices])\n",
      "Cd = (dV_drag_sub)/(Af*Qint_sub)\n",
      "print \"Cd:\\t\\t\",Cd"
     ],
     "language": "python",
     "metadata": {},
     "outputs": [
      {
       "output_type": "stream",
       "stream": "stdout",
       "text": [
        "Cd:\t\t0.273357016691\n"
       ]
      }
     ],
     "prompt_number": 20
    },
    {
     "cell_type": "markdown",
     "metadata": {},
     "source": [
      "Now the final answer actually seems low!"
     ]
    }
   ],
   "metadata": {}
  }
 ]
}