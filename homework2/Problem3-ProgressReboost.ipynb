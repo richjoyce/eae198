{
 "metadata": {
  "name": "",
  "signature": "sha256:febf1d76b45d79a4b6684a45904b07d79a10ef0abdc967ba2690b5790b29f50c"
 },
 "nbformat": 3,
 "nbformat_minor": 0,
 "worksheets": [
  {
   "cells": [
    {
     "cell_type": "heading",
     "level": 1,
     "metadata": {},
     "source": [
      "Problem 3. Progress Reboost"
     ]
    },
    {
     "cell_type": "markdown",
     "metadata": {},
     "source": [
      "In the previous homework you determined the $\\Delta V$ required for an ISS reboost.\n",
      "For a similar reboost of the ISS, a $\\Delta V$ of $2.0\\mathrm{m/s}$ was acheived.\n",
      "Typically, these reboosts are performed by a Progress re-supply module, using 8 (eight) of its $29.3\\mathrm{lbf}$ attitude control engines.\n",
      "If the mass of the propellant used was $m_p=300\\mathrm{kg}$, determine the following:"
     ]
    },
    {
     "cell_type": "markdown",
     "metadata": {},
     "source": [
      "**(a) $t_b$, the time of the burn**\n",
      "\n",
      "**(b) $\\dot{m}$, the mass propellant flow rate**\n",
      "\n",
      "**(c) $V_{eq}$, the exhaust velocity of the propellant**\n",
      "\n",
      "**(d) $I_{sp}$, specific impulse of a single engine**"
     ]
    },
    {
     "cell_type": "markdown",
     "metadata": {},
     "source": [
      "(Use $m=420,000\\mathrm{kg}$ for the mass of the ISS, not including the propellant burned)"
     ]
    },
    {
     "cell_type": "heading",
     "level": 3,
     "metadata": {},
     "source": [
      "Solution"
     ]
    },
    {
     "cell_type": "markdown",
     "metadata": {},
     "source": [
      "Time to burn out is asked for first, but we don't have enough information to directly calculate it.\n",
      "The best formula we have for it is just the amount of fuel burned over the mass flow rate:\n",
      "\\begin{equation*}\n",
      "t_b = \\frac{m_p}{\\dot{m}}\n",
      "\\end{equation*}\n",
      "We know $m_p$, but not $\\dot{m}$.\n",
      "A formula we know that has $\\dot{m}$ is our thrust formula.\n",
      "\\begin{align*}\n",
      "T &= \\dot{m} V_{eq} \\\\\n",
      "\\dot{m} &= \\frac{T}{V_{eq}}\n",
      "\\end{align*}\n",
      "Thrust is given as $8\\times29.3\\mathrm{lbf}$, but we were not given $V_{eq}$.\n",
      "Pulling in another rocket formula relates $V_{eq}$ to $\\Delta V$,\n",
      "\\begin{align*}\n",
      "\\Delta V &= V_{eq} \\ln \\left( \\frac{m_i}{m_f} \\right) \\\\\n",
      "V_{eq} &= \\frac{\\Delta V}{\\ln \\left( \\frac{m_i}{m_f} \\right)}\n",
      "\\end{align*}\n",
      "Initial and final mass are of the spacecraft before and after the burn, thus in our case for the ISS with a mass of 420,000kg:\n",
      "\\begin{align*}\n",
      "m_i &= 420,000\\mathrm{kg} + 300\\mathrm{kg} \\\\\n",
      "m_f &= 420,000\\mathrm{kg}\n",
      "\\end{align*}\n",
      "The only remaining variable we are asked for is $I_{sp}$, which is given one of two ways,\n",
      "\\begin{align*}\n",
      "I_{sp} &= \\frac{T}{\\dot{m}g_0} \\\\\n",
      "I_{sp} &= \\frac{V_{eq}}{g_0}\n",
      "\\end{align*}"
     ]
    },
    {
     "cell_type": "code",
     "collapsed": false,
     "input": [
      "import numpy as np\n",
      "g_0   = 9.81           # m/s^2\n",
      "\n",
      "dV    = 2.0            # m/s\n",
      "T     = 8*29.3*4.448   # N, thrust: 8 engines * 29.3 lbf * 4.448 N/lbf\n",
      "m_p   = 300.0          # kg, mass of propellant\n",
      "m_iss = 420000.0       # kg, mass of ISS\n",
      "\n",
      "v_e = dV/np.log((m_iss+m_p)/m_iss)\n",
      "mdot = T/v_e\n",
      "t_b = m_p/mdot\n",
      "Isp = v_e/g_0\n",
      "\n",
      "print \"Time of burn: \\t\\t{0:.1f} s\".format(t_b)\n",
      "print \"Mass rate: \\t\\t{0:.2f} kg/s\".format(mdot)\n",
      "print \"Isp: \\t\\t\\t{0:.1f} s\".format(Isp)\n",
      "print \"Exhaust velocity: \\t{0:.2f} km/s\".format(v_e/1000.0)"
     ],
     "language": "python",
     "metadata": {},
     "outputs": [
      {
       "output_type": "stream",
       "stream": "stdout",
       "text": [
        "Time of burn: \t\t806.0 s\n",
        "Mass rate: \t\t0.37 kg/s\n",
        "Isp: \t\t\t285.5 s\n",
        "Exhaust velocity: \t2.80 km/s\n"
       ]
      }
     ],
     "prompt_number": 1
    }
   ],
   "metadata": {}
  }
 ]
}