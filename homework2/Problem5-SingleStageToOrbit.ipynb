{
 "metadata": {
  "name": "",
  "signature": "sha256:ab6f6bc8bcf66c10f2c7d15b2d2115bf4ce5521b689917d50c21a2dd8f700797"
 },
 "nbformat": 3,
 "nbformat_minor": 0,
 "worksheets": [
  {
   "cells": [
    {
     "cell_type": "heading",
     "level": 1,
     "metadata": {},
     "source": [
      "Problem 5. Single Stage To Orbit"
     ]
    },
    {
     "cell_type": "markdown",
     "metadata": {},
     "source": [
      "In this problem we are going to estimate the required initial thrust-to-weight ratio required for a heavy launcher that is single stage to orbit (SSTO).\n",
      "Use the following conditions and assumptions for your calculation.\n",
      "Does the $T/W_i$ seem reasonable (compare to similar heavy launchers)?\n",
      "\n",
      "- No payload\n",
      "- No drag loss ($\\Delta V_{\\mathrm{drag}}=0$)\n",
      "- Assume constant gravitational loss ($\\Delta V_{grav} = g_0t_b$)\n",
      "- Launching to an orbit of 300km altitude from the equator\n",
      "- Initial mass of propellant to total mass ratio is $0.90$ (slightly high for a heavy launcher)\n",
      "- Propellant is LOX/LH2, which has the following properties\n",
      "    \\begin{align*}\n",
      "       R_u &= 8.314\\mathrm{kJ-mol/K} \\\\\n",
      "       M_w &= 9.0\\mathrm{g/mol} \\\\\n",
      "       k &= 1.26 \\\\\n",
      "       T_c &= 2,700\\mathrm{K} \\\\\n",
      "       P_c &= 6,895\\mathrm{kPa} \\\\\n",
      "       P_e &= 101.3\\mathrm{kPa} \n",
      "    \\end{align*}"
     ]
    },
    {
     "cell_type": "heading",
     "level": 2,
     "metadata": {},
     "source": [
      "Solution"
     ]
    },
    {
     "cell_type": "code",
     "collapsed": false,
     "input": [
      "%matplotlib inline\n",
      "import numpy as np\n",
      "import matplotlib.pyplot as plt\n",
      "\n",
      "# Constants\n",
      "g_0 = 9.81         # m/s^2\n",
      "r_e = 6387.1       # km\n",
      "mu = 398600.4418   # km^3/s^2"
     ],
     "language": "python",
     "metadata": {},
     "outputs": [],
     "prompt_number": 1
    },
    {
     "cell_type": "markdown",
     "metadata": {},
     "source": [
      "The goal of this problem is to find the initial thrust to weight for the proposed rocket.\n",
      "We have the equation,\n",
      "$$t_b = \\frac{m_i}{m_f}\\frac{W}{T}I_{sp}$$\n",
      "from the lecture notes, so we can work backward from this."
     ]
    },
    {
     "cell_type": "markdown",
     "metadata": {},
     "source": [
      "To start, we can find out the approximate $V_{e}$ (which is basically $I_{sp}$) of the rocket based on the rocket fuel properties.\n",
      "\\begin{equation*}\n",
      "V_e = \\sqrt{ 2\\frac{R_u}{M_w}\\frac{k}{k-1}T_c\\left[ 1-\\left( \\frac{P_e}{P_c}\\right)^{\\left(\\frac{k-1}{k}\\right)}\\right]}\n",
      "\\end{equation*}"
     ]
    },
    {
     "cell_type": "code",
     "collapsed": false,
     "input": [
      "Ru = 8.314     # kJ-mol/K; universal gas constant\n",
      "Mw = 9.0       # g/mol; molecular weight\n",
      "Pe = 101.3     # kPa; exit pressure\n",
      "Pc = 6895.0    # kPa; chamber pressure\n",
      "Tc = 2700.0    # K; combustion temperature\n",
      "k  = 1.26      # ratio of specific heats\n",
      "\n",
      "# Convert Mw to kg/mol\n",
      "Mw = Mw/1000.0\n",
      "\n",
      "# Exhaust velocity in m/s\n",
      "v_e = np.sqrt(((2*Ru*k*Tc)/(Mw*(k-1.0)))*(1.0-(Pe/Pc)**((k-1)/k)))\n",
      "# Convert to km/s\n",
      "v_e = v_e/1000.0\n",
      "print \"Exhaust velocity: {:1.2f} km/s\".format(v_e)"
     ],
     "language": "python",
     "metadata": {},
     "outputs": [
      {
       "output_type": "stream",
       "stream": "stdout",
       "text": [
        "Exhaust velocity: 3.75 km/s\n"
       ]
      }
     ],
     "prompt_number": 2
    },
    {
     "cell_type": "markdown",
     "metadata": {},
     "source": [
      "We can rearrange the propellant mass fraction of $m_p/m_i=0.90$ to get $m_i/m_f$, knowing that $m_f=m_i+m_p$:\n",
      "\\begin{align*}\n",
      "\\frac{m_i}{m_f} &= \\frac{m_i}{m_i+m_p} \\\\\n",
      "&= \\frac{m_i}{m_i \\left( \\frac{m_p}{m_i}+1 \\right) } \\\\\n",
      "&= \\frac{1}{ 1 + \\frac{m_p}{m_i} }\n",
      "\\end{align*}"
     ]
    },
    {
     "cell_type": "code",
     "collapsed": false,
     "input": [
      "# Assume propellant mass fraction is 0.90\n",
      "MF = 0.90\n",
      "m_ratio  = 1/(1-MF)\n",
      "print \"Mass ratio: {:1.1f}\".format(m_ratio)"
     ],
     "language": "python",
     "metadata": {},
     "outputs": [
      {
       "output_type": "stream",
       "stream": "stdout",
       "text": [
        "Mass ratio: 10.0\n"
       ]
      }
     ],
     "prompt_number": 3
    },
    {
     "cell_type": "markdown",
     "metadata": {},
     "source": [
      "For time to burnout, we turn to our launch formula:\n",
      "\\begin{align*}\n",
      "\\Delta V &= \\Delta V_{ideal} - \\Delta V_{grav} \\\\\n",
      "&= \\Delta V_{ideal} - g_0t_b \\\\\n",
      "g_0t_b &= \\Delta V_{ideal} - \\Delta V\n",
      "\\end{align*}\n",
      "So now we need $\\Delta V_{ideal}$ and $\\Delta V$.\n",
      "For $\\Delta V_{ideal}$ we can use our rocket exhaust gas velocity and the rocket formula.\n",
      "\\begin{align*}\n",
      "\\Delta V_{ideal} = V_e \\ln\\left(\\frac{m_i}{m_f}\\right)\n",
      "\\end{align*}"
     ]
    },
    {
     "cell_type": "code",
     "collapsed": false,
     "input": [
      "dV_ideal = v_e*np.log(m_ratio)\n",
      "print \"dV ideal: {:1.2f} km/s\".format(dV_ideal)"
     ],
     "language": "python",
     "metadata": {},
     "outputs": [
      {
       "output_type": "stream",
       "stream": "stdout",
       "text": [
        "dV ideal: 8.63 km/s\n"
       ]
      }
     ],
     "prompt_number": 4
    },
    {
     "cell_type": "markdown",
     "metadata": {},
     "source": [
      "The actual $\\Delta V$ is the change in speed from launch to the orbital velocity.\n",
      "We are launching into a 300km circular orbit, so we can use our orbital mechanics to determine orbital velocity."
     ]
    },
    {
     "cell_type": "code",
     "collapsed": false,
     "input": [
      "# Launching into 300km orbit\n",
      "h = 300.0\n",
      "a = r_e + h\n",
      "v = np.sqrt(mu/a) # in km/s\n",
      "print \"Orbital velocity for 300km altitude orbit:\\t{:1.2f} km/s\".format(v)"
     ],
     "language": "python",
     "metadata": {},
     "outputs": [
      {
       "output_type": "stream",
       "stream": "stdout",
       "text": [
        "Orbital velocity for 300km altitude orbit:\t7.72 km/s\n"
       ]
      }
     ],
     "prompt_number": 5
    },
    {
     "cell_type": "markdown",
     "metadata": {},
     "source": [
      "Hold on though, because we have to make a slight adjustment.\n",
      "One condition is launching from equator, so using the rotational speed of the Earth to our advantage, we actually want to take off the speed of the ground relative to the center of the Earth.\n",
      "At the equator, this is [around](http://image.gsfc.nasa.gov/poetry/ask/a10840.html) 0.47 km/s."
     ]
    },
    {
     "cell_type": "code",
     "collapsed": false,
     "input": [
      "# But wait! we are launching from rotating earth, so\n",
      "v_equator = 0.47 # km/s\n",
      "# Final burnout velocity relative to earth\n",
      "dV = v - v_equator\n",
      "print \"Delta V: {:1.2f} km/s\".format(dV)"
     ],
     "language": "python",
     "metadata": {},
     "outputs": [
      {
       "output_type": "stream",
       "stream": "stdout",
       "text": [
        "Delta V: 7.25 km/s\n"
       ]
      }
     ],
     "prompt_number": 7
    },
    {
     "cell_type": "markdown",
     "metadata": {},
     "source": [
      "Now we can rearrange the first formula to solve for $T/W$, using what we have calculated."
     ]
    },
    {
     "cell_type": "markdown",
     "metadata": {},
     "source": [
      "\\begin{align*}\n",
      "t_b &= \\frac{m_i}{m_f}\\frac{W}{T}I_{sp} \\\\\n",
      "g_0t_b &= \\frac{m_p}{m_i}\\frac{W}{T}V_e \\\\\n",
      "\\Delta V - \\Delta V_{ideal} &= \\frac{m_p}{m_i}\\frac{W}{T}V_e \\\\\n",
      "\\frac{T}{W} &= \\frac{m_p}{m_i}\\frac{V_e}{\\Delta V_{ideal} - \\Delta V}\n",
      "\\end{align*}"
     ]
    },
    {
     "cell_type": "code",
     "collapsed": false,
     "input": [
      "T_W = MF*(v_e/(dV_ideal - dV))\n",
      "print \"T/W: {:1.2f}\".format(T_W)"
     ],
     "language": "python",
     "metadata": {},
     "outputs": [
      {
       "output_type": "stream",
       "stream": "stdout",
       "text": [
        "T/W: 2.44\n"
       ]
      }
     ],
     "prompt_number": 8
    },
    {
     "cell_type": "markdown",
     "metadata": {},
     "source": [
      "In the lecture notes, thrust and gross weight were given for a Delta IV Heavy launcher, in klbf, so we can compare to our vehicle."
     ]
    },
    {
     "cell_type": "code",
     "collapsed": false,
     "input": [
      "W_d4h = 1629.0\n",
      "T_d4h = 1973.0\n",
      "T_W_d4h = T_d4h/W_d4h\n",
      "print \"T/W of Delta IV Heavy: {:1.2f}\".format(T_W_d4h)"
     ],
     "language": "python",
     "metadata": {},
     "outputs": [
      {
       "output_type": "stream",
       "stream": "stdout",
       "text": [
        "T/W of Delta IV Heavy: 1.21\n"
       ]
      }
     ],
     "prompt_number": 9
    },
    {
     "cell_type": "markdown",
     "metadata": {},
     "source": [
      "We would need almost double the amount of thrust provided if our launcher weighed comparable to a Delta IV Heavy, or halve the total weight while still getting the same thrust values.\n",
      "This is cleary **impossible** with our current chemical rockets!"
     ]
    },
    {
     "cell_type": "heading",
     "level": 3,
     "metadata": {},
     "source": [
      "Bonus"
     ]
    },
    {
     "cell_type": "markdown",
     "metadata": {},
     "source": [
      "If you happen to look at the time to burnout, you'll notice that another seemingly unfeasible property of this rocket is that it takes only 141 seconds to make it to orbit!"
     ]
    },
    {
     "cell_type": "code",
     "collapsed": false,
     "input": [
      "# 1000 to change units km to m\n",
      "t_b = 1000*(dV_ideal - dV)/g_0\n",
      "print \"time to burnout: {:1.1f}\".format(t_b)"
     ],
     "language": "python",
     "metadata": {},
     "outputs": [
      {
       "output_type": "stream",
       "stream": "stdout",
       "text": [
        "time to burnout: 140.9\n"
       ]
      }
     ],
     "prompt_number": 10
    }
   ],
   "metadata": {}
  }
 ]
}