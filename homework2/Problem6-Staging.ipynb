{
 "metadata": {
  "name": "",
  "signature": "sha256:850ccf3799061606278d3ca4eda44574cff032955ffffe462507058fbf8e5fc4"
 },
 "nbformat": 3,
 "nbformat_minor": 0,
 "worksheets": [
  {
   "cells": [
    {
     "cell_type": "heading",
     "level": 1,
     "metadata": {},
     "source": [
      "Problem 6. Staging"
     ]
    },
    {
     "cell_type": "markdown",
     "metadata": {},
     "source": [
      "You are in need of a booster that will accelerate a 453.5kg payload to an ideal velocity of 5795m/s (no gravity or drag losses).\n",
      "Two options are available for you.\n",
      "Will either fit your needs, and which would you choose?\n",
      " * Single stage with $V_e=3.0$km/s, wet mass (total initial weight, fuel and structure) of 6803kg, and empty structural mass of 737kg.\n",
      " * Two stages with $V_e = 3.0$km/s for both stages, first stage wet mass of 6803kg and an empty mass of 1200kg, second stage wet mass of 1757kg and an empty mass of 186.4kg."
     ]
    },
    {
     "cell_type": "heading",
     "level": 2,
     "metadata": {},
     "source": [
      "Solution"
     ]
    },
    {
     "cell_type": "markdown",
     "metadata": {},
     "source": [
      "To determine the $\\Delta V$ we can use the rocket formula, and just need to determine $m_i$ and $m_f$ for each:\n",
      "\\begin{align*}\n",
      "    \\Delta V &= V_e \\ln\\left(\\frac{m_i}{m_f}\\right) \n",
      "\\end{align*}\n",
      "For the single stage rocket, $m_i$ is the wet mass plus the payload, and $m_f$ is the structural mass and the payload.\n",
      "\\begin{align*}\n",
      "    \\Delta V &= V_e \\ln\\left(\\frac{m_w+m_{pay}}{m_s+m_{pay}}\\right) \n",
      "\\end{align*}\n",
      "For the two stage rocket, we need to seperate this into the two stages.\n",
      "The initial mass for stage one is the wet mass of both stages and the payload, the final mass is the stage one structural mass plus the wet mass of stage two and the payload.\n",
      "The initial mass for stage two is the wet mass of stage two and the payload,and the final mass is the stage two structural mass plus the payload.\n",
      "\\begin{align*}\n",
      "    \\Delta V &= V_e \\ln\\left(\\frac{m_{w,1}+m_{w,2}+m_{pay}}{m_{s,1}+m_{w,2}+m_{pay}}\\right) + V_e \\ln\\left(\\frac{m_{w,2}+m_{pay}}{m_{s,2}+m_{pay}}\\right)\n",
      "\\end{align*}"
     ]
    },
    {
     "cell_type": "code",
     "collapsed": false,
     "input": [
      "import numpy as np\n",
      "m_pay = 453.5\n",
      "\n",
      "v_e = 3.0\n",
      "m_w = 6803.0\n",
      "m_s = 737.0\n",
      "\n",
      "dV_1 = v_e*np.log((m_w+m_pay)/(m_s+m_pay))\n",
      "print \"Single Stage dV:\\t{:1.3f}km/s\".format(dV_1)\n",
      "\n",
      "m_w1 = 6803.0\n",
      "m_s1 = 1200.0\n",
      "m_w2 = 1757.0\n",
      "m_s2 = 186.4\n",
      "\n",
      "dV_2 = v_e*np.log((m_w1+m_w2+m_pay)/(m_s1+m_w2+m_pay)) + v_e*np.log((m_w2+m_pay)/(m_s2+m_pay))\n",
      "print \"Two Stage dV:\\t\\t{:1.3f}km/s\".format(dV_2)"
     ],
     "language": "python",
     "metadata": {},
     "outputs": [
      {
       "output_type": "stream",
       "stream": "stdout",
       "text": [
        "Single Stage dV:\t5.423km/s\n",
        "Two Stage dV:\t\t6.635km/s\n"
       ]
      }
     ],
     "prompt_number": 1
    },
    {
     "cell_type": "markdown",
     "metadata": {},
     "source": [
      "Only the two stage will complete our mission, thus that is what I will select!"
     ]
    }
   ],
   "metadata": {}
  }
 ]
}