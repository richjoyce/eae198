{
 "metadata": {
  "name": "",
  "signature": "sha256:ba156b9b99608b7514e6bd5394fe8f29daa9e4424627eecc35282658885bbd8c"
 },
 "nbformat": 3,
 "nbformat_minor": 0,
 "worksheets": [
  {
   "cells": [
    {
     "cell_type": "heading",
     "level": 1,
     "metadata": {},
     "source": [
      "Problem 2. Orbital Maneuvering Capabilities"
     ]
    },
    {
     "cell_type": "markdown",
     "metadata": {},
     "source": [
      "An orbiter with a mass of 11,350 kg needs a maneuvering and orbital trim capability of 550 m/s using $\\mathrm{LOX/H}_2$ with an $I_{\\mathrm{sp,vac}}$ of 420s.\n",
      "- Find the minimum propellant mass\n",
      "- If $T=22,240$N, find the mass flow rate and total burn time\n",
      "- Find the initial and final $T/W$ ratios"
     ]
    },
    {
     "cell_type": "heading",
     "level": 2,
     "metadata": {},
     "source": [
      "Solution"
     ]
    },
    {
     "cell_type": "code",
     "collapsed": false,
     "input": [
      "# Setup notebook\n",
      "import numpy as np\n",
      "g_0   = 9.81      # m/s^2\n",
      "m_orb = 11340.0   # kg\n",
      "dV    = 550.0     # m/s\n",
      "Isp   = 420.0     # s"
     ],
     "language": "python",
     "metadata": {},
     "outputs": [],
     "prompt_number": 1
    },
    {
     "cell_type": "heading",
     "level": 5,
     "metadata": {},
     "source": [
      "(a) Find the minimum propellant mass"
     ]
    },
    {
     "cell_type": "markdown",
     "metadata": {},
     "source": [
      "First we find the exhaust velocity.\n",
      "$$V_e =g_0I_{sp,vac}$$"
     ]
    },
    {
     "cell_type": "code",
     "collapsed": false,
     "input": [
      "v_e = g_0*Isp\n",
      "print \"Velocity of exhaust:\\t{:.2f} km/s\".format(v_e/1000.0)"
     ],
     "language": "python",
     "metadata": {},
     "outputs": [
      {
       "output_type": "stream",
       "stream": "stdout",
       "text": [
        "Velocity of exhaust:\t4.12 km/s\n"
       ]
      }
     ],
     "prompt_number": 2
    },
    {
     "cell_type": "markdown",
     "metadata": {},
     "source": [
      "Next we find the mass ratio that will achieve our given $\\Delta V$ for this exhaust velocity.\n",
      "$$\\frac{m_i}{m_f}=\\exp\\left(\\frac{\\Delta V}{V_e}\\right)$$"
     ]
    },
    {
     "cell_type": "code",
     "collapsed": false,
     "input": [
      "m_ratio = np.exp(dV/v_e)\n",
      "print \"Mass ratio:\\t{:.2f}\".format(m_ratio)"
     ],
     "language": "python",
     "metadata": {},
     "outputs": [
      {
       "output_type": "stream",
       "stream": "stdout",
       "text": [
        "Mass ratio:\t1.14\n"
       ]
      }
     ],
     "prompt_number": 3
    },
    {
     "cell_type": "markdown",
     "metadata": {},
     "source": [
      "The amount of propellant is found as the difference between initial and final mass.\n",
      "Since we are solving for the minimum amount of propellant, the final mass will just be the given mass of the orbiter.\n",
      "\\begin{align*}\n",
      "m_p &= m_i-m_f\\\\\n",
      "&= \\frac{m_i}{m_f}m_f - m_f\\\\\n",
      "&= \\left(\\frac{m_i}{m_f}-1\\right)m_{\\mathrm{orbiter}}\n",
      "\\end{align*}"
     ]
    },
    {
     "cell_type": "code",
     "collapsed": false,
     "input": [
      "m_p = (m_ratio-1)*m_orb\n",
      "print \"Mass of propellant:\\t{:.2f} km/s\".format(m_p/1000.0)"
     ],
     "language": "python",
     "metadata": {},
     "outputs": [
      {
       "output_type": "stream",
       "stream": "stdout",
       "text": [
        "Mass of propellant:\t1.62 km/s\n"
       ]
      }
     ],
     "prompt_number": 4
    },
    {
     "cell_type": "heading",
     "level": 5,
     "metadata": {},
     "source": [
      "(b) If $T=22,240$N, find the mass flow rate and total burn time"
     ]
    },
    {
     "cell_type": "markdown",
     "metadata": {},
     "source": [
      "Now for $T=22240$N, mass flow rate is,\n",
      "\\begin{align*}\n",
      "T &=\\dot{m} V_e \\\\\n",
      "\\dot{m} &=\\frac{T}{V_e} \n",
      "\\end{align*}\n",
      "Total burn time is simply the mass of propellant divided by the mass flow rate,\n",
      "\\begin{align*}\n",
      "t_b&=\\frac{m_p}{\\dot{m}} \n",
      "\\end{align*}"
     ]
    },
    {
     "cell_type": "code",
     "collapsed": false,
     "input": [
      "T = 22240\n",
      "m_dot = T/v_e\n",
      "t_b = m_p/m_dot\n",
      "print \"Mass flow rate:\\t\\t{:.2f} kg/s\\nTotal burn time:\\t{:.1f} s\".format(m_dot, t_b)"
     ],
     "language": "python",
     "metadata": {},
     "outputs": [
      {
       "output_type": "stream",
       "stream": "stdout",
       "text": [
        "Mass flow rate:\t\t5.40 kg/s\n",
        "Total burn time:\t300.0 s\n"
       ]
      }
     ],
     "prompt_number": 5
    },
    {
     "cell_type": "heading",
     "level": 5,
     "metadata": {},
     "source": [
      "(c) Find the initial and final $T/W$ ratios."
     ]
    },
    {
     "cell_type": "markdown",
     "metadata": {},
     "source": [
      "Finally we are asked for $T/W_i$ and $T/W_f$, initial and final thrust over weight ratios.\n",
      "The initial $T/W$ is found using the weight with fuel, and the final using the weight without the fuel. \n",
      "Remember to convert mass to weight."
     ]
    },
    {
     "cell_type": "code",
     "collapsed": false,
     "input": [
      "T_Wi = T/(g_0*(m_orb+m_p))\n",
      "T_Wf = T/(g_0*m_orb)\n",
      "print \"T/W initial:\\t{:1.3f}\\nT/W final:\\t{:1.3f}\".format(T_Wi, T_Wf)"
     ],
     "language": "python",
     "metadata": {},
     "outputs": [
      {
       "output_type": "stream",
       "stream": "stdout",
       "text": [
        "T/W initial:\t0.175\n",
        "T/W final:\t0.200\n"
       ]
      }
     ],
     "prompt_number": 6
    }
   ],
   "metadata": {}
  }
 ]
}