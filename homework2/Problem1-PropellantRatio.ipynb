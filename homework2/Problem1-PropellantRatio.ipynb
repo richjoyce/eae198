{
 "metadata": {
  "name": "",
  "signature": "sha256:c747cee6bd8f56fab76e6dfc78d6f2eccbfcefbc0820e49b842942bfc6a02e2e"
 },
 "nbformat": 3,
 "nbformat_minor": 0,
 "worksheets": [
  {
   "cells": [
    {
     "cell_type": "heading",
     "level": 1,
     "metadata": {},
     "source": [
      "Problem 1. Propellant Ratio"
     ]
    },
    {
     "cell_type": "markdown",
     "metadata": {},
     "source": [
      "For a vertically-launched rocket, neglecting drag and gravity, and with exit-plane exhaust velocity of $6.8\\mathrm{km/s}$, what is the fraction of propellant to initial total vehicle mass, $m_p/m_i$, that would give a burnout velocity of $10.5\\mathrm{km/s}$?\n",
      "\n",
      "You can ignore pressure thrust ($V_e=V_{eq}$)."
     ]
    },
    {
     "cell_type": "heading",
     "level": 2,
     "metadata": {},
     "source": [
      "Solution"
     ]
    },
    {
     "cell_type": "markdown",
     "metadata": {},
     "source": [
      "For this we can rearrange the rocket equation to find the mass fraction, then figure out the $m_p/m_i$ ratio.\n",
      "\\begin{align}\n",
      "\\Delta V &= V_{eq} \\ln\\left(\\frac{m_i}{m_f}\\right) \\\\\n",
      "\\frac{m_i}{m_f} &= \\exp\\left(\\frac{\\Delta V}{V_{eq}}\\right)\n",
      "\\end{align}\n",
      "Final mass is initial mass minus the propellant.\n",
      "\\begin{align}\n",
      "\\frac{m_i}{m_i-m_p} &= \\exp\\left(\\frac{\\Delta V}{V_{eq}}\\right) \\\\\n",
      "m_i &= (m_i-m_p)\\exp\\left(\\frac{\\Delta V}{V_{eq}}\\right) \\\\\n",
      "m_i\\left[\\exp\\left(\\frac{\\Delta V}{V_{eq}}\\right) - 1\\right] &= m_p\\left[\\exp\\left(\\frac{\\Delta V}{V_{eq}}\\right)\\right] \\\\\n",
      "\\frac{m_p}{m_i} &= \\frac{\\exp\\left(\\frac{\\Delta V}{V_{eq}}\\right) - 1}{\\exp\\left(\\frac{\\Delta V}{V_{eq}}\\right)}\n",
      "\\end{align}\n",
      "Phew!\n",
      "Quite a formula but it works out:"
     ]
    },
    {
     "cell_type": "code",
     "collapsed": false,
     "input": [
      "import numpy as np\n",
      "v_e = 6.8   # km/s\n",
      "dV  = 10.5  # km/s\n",
      "mass_ratio = (np.exp(dV/v_e)-1)/(np.exp(dV/v_e))\n",
      "print \"Required m_p/m_i: {0:0.2f}\".format(mass_ratio)"
     ],
     "language": "python",
     "metadata": {},
     "outputs": [
      {
       "output_type": "stream",
       "stream": "stdout",
       "text": [
        "Required m_p/m_i: 0.79\n"
       ]
      }
     ],
     "prompt_number": 2
    }
   ],
   "metadata": {}
  }
 ]
}