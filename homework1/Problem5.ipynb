{
 "metadata": {
  "name": "",
  "signature": "sha256:81cdf26d49d095ffc2a44d50b4a587eae38b795e92c5b2c075a3d61bd5e09c45"
 },
 "nbformat": 3,
 "nbformat_minor": 0,
 "worksheets": [
  {
   "cells": [
    {
     "cell_type": "code",
     "collapsed": false,
     "input": [
      "# Set up notebook environment\n",
      "%matplotlib inline\n",
      "import numpy as np\n",
      "import matplotlib.pyplot as plt\n",
      "from IPython.display import display\n",
      "from IPython.display import HTML\n",
      "# Set up some constants\n",
      "r_e = 6378.1       # km; radius of the earth\n",
      "mu = 398600.4418   # km^3/s^2; gravitational parameter of earth"
     ],
     "language": "python",
     "metadata": {},
     "outputs": [],
     "prompt_number": 2
    },
    {
     "cell_type": "heading",
     "level": 1,
     "metadata": {},
     "source": [
      "Problem 5. Chasing Orbits"
     ]
    },
    {
     "cell_type": "markdown",
     "metadata": {},
     "source": [
      "In order for two spacecraft to rendezvous in orbit, the chaser must not only launch at the correct time to be in the same orbital plane as the target spacecraft, it also must zero the phase angle between them.\n",
      "This is typically done by staying in a lower 'chasing orbit' until it catches up to the target."
     ]
    },
    {
     "cell_type": "code",
     "collapsed": false,
     "input": [
      "from IPython.display import Image\n",
      "display(Image(\"../resources/images/phase.png\", width=500))"
     ],
     "language": "python",
     "metadata": {},
     "outputs": [
      {
       "metadata": {
        "png": {
         "width": 500
        }
       },
       "output_type": "display_data",
       "png": "[encoded data removed]",
       "text": [
        "<IPython.core.display.Image at 0x1276310>"
       ]
      }
     ],
     "prompt_number": 3
    },
    {
     "cell_type": "markdown",
     "metadata": {},
     "source": [
      "Consider the recent CRS-3 mission by SpaceX, which just recently rendezvous-ed with the International Space Station.\n",
      "The SpaceX Dragon launched on Friday, April 18th at 1925UTC, and berthed with the ISS on Sunday, April 20th at 1114UTC."
     ]
    },
    {
     "cell_type": "heading",
     "level": 4,
     "metadata": {},
     "source": [
      "(a) Estimate the initial phase angle between the two spacecraft, assuming the following:"
     ]
    },
    {
     "cell_type": "markdown",
     "metadata": {},
     "source": [
      "- The chasing orbit used by Dragon was a circular orbit of altitude 330km, and started approximately 10 minutes after launch\n",
      "- The ISS is in a constant circular 420km orbit\n",
      "- The final 5 orbits were reserved for proximity operations (approaching the ISS and robotic arm operations)"
     ]
    },
    {
     "cell_type": "markdown",
     "metadata": {},
     "source": [
      "The Dragon is in a lower chasing orbit than the ISS, meaning for each complete orbit of the ISS, the Dragon completes >1 orbit.\n",
      "The amount of 'extra' orbit that the Dragon completes causes it to gain 'phase angle' on the ISS per orbit.\n",
      "If we know the difference between the periods, then we can determine how much 'extra time' the Dragon has per ISS orbit, which we combine with the mean angular motion, $n$, of the Dragon to figure out how many degrees of phase angle it gains per orbit.\n",
      "Remember that $n$ is in the units of rad/s, so this calculation gives us an angle as we expect.\n",
      "$$\\phi = (P_{\\mathrm{ISS}}-P_{\\mathrm{Dragon}})n_{\\mathrm{Dragon}}$$\n",
      "\n",
      "To figure out the initial phase angle, we can figure out the amount of orbits it spent in the chasing orbit, and multiply by the phase angle per orbit."
     ]
    },
    {
     "cell_type": "code",
     "collapsed": false,
     "input": [
      "# Find the ISS period\n",
      "a_iss = r_e + 420.0\n",
      "n_iss = np.sqrt(mu/a_iss**3)\n",
      "P_iss = 2*np.pi/n_iss\n",
      "# Find the Dragon period\n",
      "a_dragon = r_e + 330.0\n",
      "n_dragon = np.sqrt(mu/a_dragon**3)\n",
      "P_dragon = 2*np.pi/n_dragon\n",
      "# Determine the phase angle per orbit\n",
      "phase_per_orbit = (P_iss-P_dragon)*n_dragon\n",
      "\n",
      "# Find the amount of time the Dragon had to null the phase angle, from ten minutes after launch to 5 ISS orbits before berthing\n",
      "from datetime import datetime\n",
      "from datetime import timedelta\n",
      "launch = datetime.strptime(\"2014-04-18 1925Z\",\"%Y-%m-%d %H%MZ\")\n",
      "berth  = datetime.strptime(\"2014-04-20 1114Z\",\"%Y-%m-%d %H%MZ\")\n",
      "orbit  = launch + timedelta(minutes=10)\n",
      "catch  = berth - timedelta(seconds=P_iss*5)\n",
      "chase_time = catch - orbit\n",
      "\n",
      "# Now combine to figure out \n",
      "number_of_dragon_orbits = chase_time.total_seconds()/P_dragon\n",
      "number_of_iss_orbits = chase_time.total_seconds()/P_iss\n",
      "phase_angle = np.rad2deg(number_of_iss_orbits*phase_per_orbit)\n",
      "\n",
      "print \"Chase time in seconds: {0:0.1f} sec\".format(chase_time.total_seconds())\n",
      "print \"Number of Dragon orbits: {0:0.1f}\".format(number_of_dragon_orbits)\n",
      "print \"Number of ISS orbits: {0:0.1f}\".format(chase_time.total_seconds()/P_iss)\n",
      "print \"Phase angle closing per dragon orbit: {0:0.2f} deg\".format(np.rad2deg(phase_per_orbit))\n",
      "print \"Initial phase angle: {0:0.2f} deg\".format(phase_angle)"
     ],
     "language": "python",
     "metadata": {},
     "outputs": [
      {
       "output_type": "stream",
       "stream": "stdout",
       "text": [
        "Chase time in seconds: 114849.1 sec\n",
        "Number of Dragon orbits: 21.0\n",
        "Number of ISS orbits: 20.6\n",
        "Phase angle closing per dragon orbit: 7.27 deg\n",
        "Initial phase angle: 149.67 deg\n"
       ]
      }
     ],
     "prompt_number": 5
    },
    {
     "cell_type": "markdown",
     "metadata": {},
     "source": [
      "Since the homework prompt was unclear, it's possible to have interpreted it as 5 Dragon orbits before berthing.\n",
      "This causes a small change in the final answer."
     ]
    },
    {
     "cell_type": "code",
     "collapsed": false,
     "input": [
      "# Change the catch time\n",
      "catch  = berth - timedelta(seconds=P_dragon*5)\n",
      "# Redo calculations\n",
      "chase_time = catch - orbit\n",
      "number_of_dragon_orbits = chase_time.total_seconds()/P_dragon\n",
      "phase_angle = np.rad2deg(number_of_dragon_orbits*phase_per_orbit)\n",
      "print \"Initial phase angle: {0:0.2f} deg\".format(phase_angle)"
     ],
     "language": "python",
     "metadata": {},
     "outputs": [
      {
       "output_type": "stream",
       "stream": "stdout",
       "text": [
        "Initial phase angle: 153.42 deg\n"
       ]
      }
     ],
     "prompt_number": 6
    },
    {
     "cell_type": "heading",
     "level": 4,
     "metadata": {},
     "source": [
      "(b) Before being scrubbed, the original launch was scheduled for Monday, April 14th at 2048UTC. What can we determine about the orbit of the ISS from this? How many orbits did the ISS perform in between launch windows?"
     ]
    },
    {
     "cell_type": "markdown",
     "metadata": {},
     "source": [
      "In order to launch into the same orbital plane as the ISS, it must launch when the ISS is directly overhead.\n",
      "The difference in time between the first launch and the second launch is:"
     ]
    },
    {
     "cell_type": "code",
     "collapsed": false,
     "input": [
      "from datetime import datetime\n",
      "launch1 = datetime.strptime(\"2014-04-14 2048Z\",\"%Y-%m-%d %H%MZ\")\n",
      "launch2 = datetime.strptime(\"2014-04-18 1925Z\",\"%Y-%m-%d %H%MZ\")\n",
      "\n",
      "print \"Time between launches:\", launch2-launch1, \"or\", (launch2-launch1).total_seconds(), \"seconds\""
     ],
     "language": "python",
     "metadata": {},
     "outputs": [
      {
       "output_type": "stream",
       "stream": "stdout",
       "text": [
        "Time between launches: 3 days, 22:37:00 or 340620.0 seconds\n"
       ]
      }
     ],
     "prompt_number": 7
    },
    {
     "cell_type": "markdown",
     "metadata": {},
     "source": [
      "The key here is that the ISS must complete a whole number of orbits in that time, thus we can determine a range of orbital periods and altitudes that satisfy this.\n",
      "We expect the ISS to be around $400$km, so lets use that to our advantage."
     ]
    },
    {
     "cell_type": "code",
     "collapsed": false,
     "input": [
      "# Number of orbits must be a whole number\n",
      "delta = (launch2-launch1).total_seconds()\n",
      "for number_of_orbits in range(1, 100):\n",
      "    P = float(delta)/number_of_orbits\n",
      "    n = (2.0*np.pi)/P\n",
      "    a = (mu/n**2)**(1.0/3.0)\n",
      "    if a > (r_e+300.0) and a < (r_e+550.0):\n",
      "        print \"Orbits: {0:0d}\\tAltitude: {1:0.2f}\".format(number_of_orbits,a-r_e)"
     ],
     "language": "python",
     "metadata": {},
     "outputs": [
      {
       "output_type": "stream",
       "stream": "stdout",
       "text": [
        "Orbits: 60\tAltitude: 500.05\n",
        "Orbits: 61\tAltitude: 424.68\n",
        "Orbits: 62\tAltitude: 351.33\n"
       ]
      }
     ],
     "prompt_number": 8
    },
    {
     "cell_type": "markdown",
     "metadata": {},
     "source": [
      "Aha!\n",
      "That second one sure looks like the ISS altitude these days."
     ]
    }
   ],
   "metadata": {}
  }
 ]
}