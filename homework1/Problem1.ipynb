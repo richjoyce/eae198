{
 "metadata": {
  "name": "",
  "signature": "sha256:ecc52471a944306ddead84611f0bb2de4410579a45dcc626bf846bb1401a94fe"
 },
 "nbformat": 3,
 "nbformat_minor": 0,
 "worksheets": [
  {
   "cells": [
    {
     "cell_type": "code",
     "collapsed": false,
     "input": [
      "# Set up notebook environment\n",
      "%matplotlib inline\n",
      "import numpy as np\n",
      "import matplotlib.pyplot as plt\n",
      "from IPython.display import display\n",
      "from IPython.display import HTML\n",
      "# Set up some constants\n",
      "r_e = 6378.1       # km; radius of the earth\n",
      "mu = 398600.4418   # km^3/s^2; gravitational parameter of earth"
     ],
     "language": "python",
     "metadata": {},
     "outputs": [],
     "prompt_number": 35
    },
    {
     "cell_type": "heading",
     "level": 1,
     "metadata": {},
     "source": [
      "Problem 1. Keplerian Orbits"
     ]
    },
    {
     "cell_type": "heading",
     "level": 4,
     "metadata": {},
     "source": [
      "(a) In class we discussed that to parameterize a spacecraft position on an elliptical orbit, we need to know six Keplerian orbital parameters. If we consider the special case of a perfectly circular orbit, what is the minimum number of Keplerian parameters we need to know (and why)?"
     ]
    },
    {
     "cell_type": "markdown",
     "metadata": {},
     "source": [
      "We need to know only 4 - orbital size and shape can be described with one parameter, and orientation of the orbit within the plane - the rotation of the periapsis, is not needed for a circular orbit."
     ]
    },
    {
     "cell_type": "heading",
     "level": 4,
     "metadata": {},
     "source": [
      "(b) A spacecraft is in an elliptical orbit with the following parameters:\n",
      "\\begin{align}\n",
      "    h_a &= 950\\mathrm{km}\\\\\n",
      "    h_p &= 300\\mathrm{km}\\\\\n",
      "    i &= 63.5^\\circ\\\\\n",
      "    \\Omega &= 73.7^\\circ\\\\\n",
      "    \\omega &= 14.1^\\circ\\\\\n",
      "    \\nu &= 16.1^\\circ\\\\\n",
      "\\end{align}\n",
      "Determine the following:"
     ]
    },
    {
     "cell_type": "heading",
     "level": 5,
     "metadata": {},
     "source": [
      "(i) Eccentricity"
     ]
    },
    {
     "cell_type": "markdown",
     "metadata": {},
     "source": [
      "\\begin{align}\n",
      "\\epsilon &= \\frac{r_a-r_p}{r_a+r_p} \\\\\n",
      "&= \\frac{(R_E+h_a)-(R_E+h_p)}{(R_E+h_a)+(R_E+h_p)} \\\\\n",
      "&= \\frac{h_a-h_p}{2R_E+h_a+h_p}\n",
      "\\end{align}"
     ]
    },
    {
     "cell_type": "code",
     "collapsed": false,
     "input": [
      "h_a = 950.0     # km; apogee altitude\n",
      "h_p = 300.0     # km; perigee altitude\n",
      "e = (h_a-h_p) / (2*r_e + h_a + h_p)\n",
      "\n",
      "output = \"\"\"<table><tr><td><b>Eccentricity: {0:0.4f}</b></td></tr></table>\"\"\".format(e)\n",
      "display(HTML(output))"
     ],
     "language": "python",
     "metadata": {},
     "outputs": [
      {
       "html": [
        "<table><tr><td><b>Eccentricity: 0.0464</b></td></tr></table>"
       ],
       "metadata": {},
       "output_type": "display_data",
       "text": [
        "<IPython.core.display.HTML at 0x4125d10>"
       ]
      }
     ],
     "prompt_number": 36
    },
    {
     "cell_type": "heading",
     "level": 5,
     "metadata": {},
     "source": [
      "(ii) Orbital speed at perigee and apogee"
     ]
    },
    {
     "cell_type": "markdown",
     "metadata": {},
     "source": [
      "To find velocities at perigee and apogee, we can use a common derivation that starts from SMAD 9-6a and using $a=\\frac{r_p}{1-\\epsilon}=\\frac{r_a}{1+\\epsilon}$.\n",
      "\\begin{align}\n",
      "    V^2 &= \\mu\\left(\\frac{2}{r}-\\frac{1}{a}\\right) \\\\\n",
      "    V_a^2 &= \\mu\\left(\\frac{2}{r_a}-\\frac{1+\\epsilon}{r_a}\\right) \\\\\n",
      "    V_a &= \\sqrt{\\mu\\left(\\frac{1-\\epsilon}{r_a}\\right)} \\\\\n",
      "    V_p &= \\sqrt{\\mu\\left(\\frac{1+\\epsilon}{r_p}\\right)} \\\\\n",
      "\\end{align}"
     ]
    },
    {
     "cell_type": "code",
     "collapsed": false,
     "input": [
      "r_a = r_e + h_a\n",
      "r_p = r_e + h_p\n",
      "v_a = np.sqrt(mu*(1-e)/r_a)\n",
      "v_p = np.sqrt(mu*(1+e)/r_p)\n",
      "output = \"\"\"<table><tr><td><b>V_perigee = {0:0.2f}km/s</b></td><td><b>V_apogee = {1:0.2f}km/s</b></td></tr></table>\"\"\".format(v_p,v_a)\n",
      "display(HTML(output))"
     ],
     "language": "python",
     "metadata": {},
     "outputs": [
      {
       "html": [
        "<table><tr><td><b>V_perigee = 7.90km/s</b></td><td><b>V_apogee = 7.20km/s</b></td></tr></table>"
       ],
       "metadata": {},
       "output_type": "display_data",
       "text": [
        "<IPython.core.display.HTML at 0x4125990>"
       ]
      }
     ],
     "prompt_number": 37
    },
    {
     "cell_type": "heading",
     "level": 5,
     "metadata": {},
     "source": [
      "(iii) Period"
     ]
    },
    {
     "cell_type": "markdown",
     "metadata": {},
     "source": [
      "\\begin{align}\n",
      "P &= \\frac{2\\pi}{n} \\\\\n",
      "n &= \\sqrt{\\frac{\\mu}{a^3}}\n",
      "\\end{align}"
     ]
    },
    {
     "cell_type": "code",
     "collapsed": false,
     "input": [
      "a = r_p*(1-e)\n",
      "n = np.sqrt(mu/a**3)\n",
      "P = 2*np.pi/n\n",
      "output = \"\"\"<table><tr><td><b>Period = {0:0.2f}s = {1:0.2f} min</b></td></tr></table>\"\"\".format(P,P/60)\n",
      "display(HTML(output))"
     ],
     "language": "python",
     "metadata": {},
     "outputs": [
      {
       "html": [
        "<table><tr><td><b>Period = 5057.48s = 84.29 min</b></td></tr></table>"
       ],
       "metadata": {},
       "output_type": "display_data",
       "text": [
        "<IPython.core.display.HTML at 0x4125350>"
       ]
      }
     ],
     "prompt_number": 38
    },
    {
     "cell_type": "heading",
     "level": 5,
     "metadata": {},
     "source": [
      "(iv) Is this a prograde or retrograde orbit?"
     ]
    },
    {
     "cell_type": "markdown",
     "metadata": {},
     "source": [
      "Prograde because $0^\\circ< i < 90^\\circ$"
     ]
    },
    {
     "cell_type": "heading",
     "level": 5,
     "metadata": {},
     "source": [
      "(v) Is the spacecraft flying to or away from perigee?"
     ]
    },
    {
     "cell_type": "markdown",
     "metadata": {},
     "source": [
      "Away from perigee because $0^\\circ< \\nu < 180^\\circ$ ($\\nu=0$ is defined as perigee by convention)"
     ]
    }
   ],
   "metadata": {}
  }
 ]
}